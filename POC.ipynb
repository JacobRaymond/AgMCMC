{
 "cells": [
  {
   "cell_type": "markdown",
   "id": "e78bae55",
   "metadata": {},
   "source": [
    "# #An implementation of https://medium.com/analytics-vidhya/monte-carlo-simulations-for-predicting-stock-prices-python-a64f53585662\n",
    "\n",
    "This is a Python Translation of a code originally written in R.\n"
   ]
  },
  {
   "cell_type": "code",
   "execution_count": 6,
   "id": "251438a1",
   "metadata": {},
   "outputs": [],
   "source": [
    "import yfinance as yf\n",
    "import numpy\n",
    "import random"
   ]
  },
  {
   "cell_type": "code",
   "execution_count": 2,
   "id": "9cf1e5f0",
   "metadata": {},
   "outputs": [],
   "source": [
    "#Inputs\n",
    "fwd=50\n",
    "rep=100000"
   ]
  },
  {
   "cell_type": "code",
   "execution_count": 8,
   "id": "d430dc84",
   "metadata": {},
   "outputs": [],
   "source": [
    "#Load data (Google's Closing Data)\n",
    "GOOG=yf.Ticker('GOOG').history(start='2010-01-01').Close"
   ]
  },
  {
   "cell_type": "code",
   "execution_count": 9,
   "id": "89762ca5",
   "metadata": {},
   "outputs": [],
   "source": [
    "#Calculate Returns\n",
    "GRet=numpy.diff(numpy.log(GOOG))"
   ]
  },
  {
   "cell_type": "code",
   "execution_count": 10,
   "id": "e9d66dfe",
   "metadata": {},
   "outputs": [],
   "source": [
    "#Select 10 dates at random - these will serve as our test cases\n",
    "#Let's give ourselves at least 500 training observations\n",
    "random.seed(1)\n",
    "samp=random.choices(range(500, len(GRet)-fwd), k=10)\n",
    "df=[GRet[1:x] for x in samp]"
   ]
  },
  {
   "cell_type": "code",
   "execution_count": 11,
   "id": "b65d36c8",
   "metadata": {},
   "outputs": [
    {
     "data": {
      "text/plain": [
       "array([-0.02553193, -0.02355476,  0.01324304, ..., -0.0375593 ,\n",
       "        0.01590656, -0.01614804])"
      ]
     },
     "execution_count": 11,
     "metadata": {},
     "output_type": "execute_result"
    }
   ],
   "source": [
    "#FIRST CASE OF LOOP\n",
    "y=df[1]\n",
    "y"
   ]
  },
  {
   "cell_type": "code",
   "execution_count": 13,
   "id": "c6652678",
   "metadata": {},
   "outputs": [],
   "source": [
    "#Calculate drift\n",
    "mu=numpy.mean(y)\n",
    "s=numpy.std(y)\n",
    "d=mu-0.5*(s**2)"
   ]
  },
  {
   "cell_type": "code",
   "execution_count": null,
   "id": "015e546a",
   "metadata": {},
   "outputs": [],
   "source": []
  }
 ],
 "metadata": {
  "kernelspec": {
   "display_name": "Python 3 (ipykernel)",
   "language": "python",
   "name": "python3"
  },
  "language_info": {
   "codemirror_mode": {
    "name": "ipython",
    "version": 3
   },
   "file_extension": ".py",
   "mimetype": "text/x-python",
   "name": "python",
   "nbconvert_exporter": "python",
   "pygments_lexer": "ipython3",
   "version": "3.9.12"
  }
 },
 "nbformat": 4,
 "nbformat_minor": 5
}
